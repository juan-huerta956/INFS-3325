{
 "cells": [
  {
   "cell_type": "code",
   "execution_count": 1,
   "id": "6027badb",
   "metadata": {},
   "outputs": [
    {
     "name": "stdout",
     "output_type": "stream",
     "text": [
      "Imports completed\n"
     ]
    }
   ],
   "source": [
    "# Step 1 Import Libraries\n",
    "from sklearn.model_selection import train_test_split, cross_val_score\n",
    "from sklearn.ensemble import RandomForestRegressor\n",
    "from sklearn.metrics import mean_absolute_error, mean_squared_error, r2_score\n",
    "import numpy as np\n",
    "import joblib\n",
    "import pandas as pd\n",
    "import time\n",
    "\n",
    "print(\"Imports completed\")"
   ]
  },
  {
   "cell_type": "code",
   "execution_count": 2,
   "id": "1e5c921f",
   "metadata": {},
   "outputs": [
    {
     "name": "stdout",
     "output_type": "stream",
     "text": [
      "Data loaded and prepared\n"
     ]
    }
   ],
   "source": [
    "# Step 2 Load and Prepare Data\n",
    "mySpotify_DF = pd.read_csv('/Users/juanhuerta/Desktop/INFS3325/spotify_songs.csv') \n",
    "X = mySpotify_DF[['danceability', 'energy', 'key', 'loudness', 'speechiness', \n",
    "                  'acousticness', 'instrumentalness', 'liveness', 'valence', 'tempo']]\n",
    "y = mySpotify_DF['track_popularity']\n",
    "\n",
    "print(\"Data loaded and prepared\")"
   ]
  },
  {
   "cell_type": "code",
   "execution_count": 3,
   "id": "ca2ff8b5",
   "metadata": {},
   "outputs": [
    {
     "name": "stdout",
     "output_type": "stream",
     "text": [
      "Data split into training and test sets\n"
     ]
    }
   ],
   "source": [
    "# Step 3 Split Data into Training and Test Sets\n",
    "X_train, X_test, y_train, y_test = train_test_split(X, y, test_size=0.25, random_state=42)\n",
    "\n",
    "print(\"Data split into training and test sets\")"
   ]
  },
  {
   "cell_type": "code",
   "execution_count": 4,
   "id": "2d751ff9",
   "metadata": {},
   "outputs": [
    {
     "name": "stdout",
     "output_type": "stream",
     "text": [
      "Random Forest Regressor initialized and trained\n"
     ]
    }
   ],
   "source": [
    "# Step 4 \n",
    "spotify_n_jobs = -1  # Utilize all available cores\n",
    "rfr_Spotify = RandomForestRegressor(n_estimators=50, random_state=0, n_jobs=spotify_n_jobs)\n",
    "start_time8 = time.time()\n",
    "rfr_Spotify.fit(X_train, y_train)\n",
    "\n",
    "print(\"Random Forest Regressor initialized and trained\")"
   ]
  },
  {
   "cell_type": "code",
   "execution_count": 5,
   "id": "6556275e",
   "metadata": {},
   "outputs": [
    {
     "name": "stdout",
     "output_type": "stream",
     "text": [
      "Model evaluation:\n",
      "Mean Absolute Error:16.78021944555627\n",
      "Mean Squared Error: 456.76089318521275\n",
      "Root Mean Squared Error:21.371965122215897\n",
      "R-squared: 0.26627596745767834\n",
      "Elapsed time: 8.244935035705566\n"
     ]
    }
   ],
   "source": [
    "# Step 5 Make Predictions and Evaluate Model\n",
    "\n",
    "y_predictions = rfr_Spotify.predict(X_test)\n",
    "mae = mean_absolute_error(y_test, y_predictions)\n",
    "mse = mean_squared_error(y_test, y_predictions)\n",
    "rmse = np.sqrt(mse)\n",
    "r2 = r2_score(y_test, y_predictions)\n",
    "stop_time8 = time.time()\n",
    "elapsed_time8 = stop_time8 - start_time8\n",
    "\n",
    "print(f\"Model evaluation:\\nMean Absolute Error:\"\n",
    "      f\"{mae}\\nMean Squared Error: {mse}\\nRoot Mean Squared Error:\" \n",
    "      f\"{rmse}\\nR-squared: {r2}\\nElapsed time: {elapsed_time8}\")"
   ]
  },
  {
   "cell_type": "code",
   "execution_count": 6,
   "id": "37f353f3",
   "metadata": {},
   "outputs": [
    {
     "name": "stdout",
     "output_type": "stream",
     "text": [
      "MSE mean only baseline: 622.6485564624193\n",
      "RMSE mean only baseline:24.952926811546963\n",
      "R-squared for the baseline model (mean only): -0.00019992192941953313\n"
     ]
    }
   ],
   "source": [
    "# Step 6 Create Baseline for Comparison\n",
    "y_train_mean = np.mean(y_train)\n",
    "y_predictions_mean_only = np.full_like(y_test, fill_value=y_train_mean)\n",
    "mse_mean_only = mean_squared_error(y_test, y_predictions_mean_only)\n",
    "rmse_mean_only = np.sqrt(mse_mean_only)\n",
    "r2_mean_only = r2_score(y_test, y_predictions_mean_only)\n",
    "\n",
    "print(f\"MSE mean only baseline: {mse_mean_only}\\nRMSE mean only baseline:\" \n",
    "      f\"{rmse_mean_only}\\nR-squared for the baseline model (mean only): {r2_mean_only}\")"
   ]
  },
  {
   "cell_type": "code",
   "execution_count": 7,
   "id": "febaa1aa",
   "metadata": {},
   "outputs": [
    {
     "name": "stdout",
     "output_type": "stream",
     "text": [
      "Crossfold MSE Scores: [434.42046706 450.21384025 578.18684602 450.2472655  570.13889335\n",
      " 392.10260948 436.41443747 526.61803891 352.66116844 428.95395555]\n",
      "Average of Crossfold MSE's:461.9957522024624\n",
      "Crossfold RMSE Scores: [20.84275575 21.2182431  24.04551613 21.21903074 23.8775814  19.80158098\n",
      " 20.89053464 22.94815982 18.77927497 20.71120362]\n",
      "Average of Crossfold RMSE's:21.433388114487464\n",
      "Elapsed time: 87.3809289932251\n"
     ]
    }
   ],
   "source": [
    "# Step 7 Perform K - Fold Cross Validation\n",
    "np.random.seed(42)\n",
    "k = 10\n",
    "start_time9 = time.time()\n",
    "cross_val_scores = cross_val_score(rfr_Spotify, X, y, cv=k, scoring='neg_mean_squared_error')\n",
    "mse_scores = -cross_val_scores\n",
    "rmse_scores = np.sqrt(mse_scores)\n",
    "stop_time9 = time.time()\n",
    "elapsed_time9 = stop_time9 - start_time9\n",
    "\n",
    "print(f\"Crossfold MSE Scores: {mse_scores}\\nAverage of Crossfold MSE's:\" \n",
    "      f\"{mse_scores.mean()}\\nCrossfold RMSE Scores: {rmse_scores}\\nAverage of Crossfold RMSE's:\" \n",
    "      f\"{rmse_scores.mean()}\\nElapsed time: {elapsed_time9}\")"
   ]
  },
  {
   "cell_type": "code",
   "execution_count": 8,
   "id": "d7ad3f95",
   "metadata": {},
   "outputs": [
    {
     "name": "stdout",
     "output_type": "stream",
     "text": [
      "Crossfold MAE Scores: [-16.22951517 -16.83639239 -18.73010842 -16.80298946 -20.1308226\n",
      " -15.07710206 -16.07900977 -18.04646326 -14.3576821  -15.78747336]\n",
      "Average of Crossfold MAE's:-16.807755859308987\n",
      "Elapsed time: 88.58501696586609\n"
     ]
    }
   ],
   "source": [
    "# Step 8 Additional Cross Validation for MAE\n",
    "start_time10 = time.time()\n",
    "mae_scores = cross_val_score(rfr_Spotify, X, y, cv=k, scoring='neg_mean_absolute_error')\n",
    "stop_time10 = time.time()\n",
    "elapsed_time10 = stop_time10 - start_time10\n",
    "\n",
    "print(f\"Crossfold MAE Scores: {mae_scores}\\nAverage of Crossfold MAE's:\" \n",
    "      f\"{mae_scores.mean()}\\nElapsed time: {elapsed_time10}\")"
   ]
  },
  {
   "cell_type": "code",
   "execution_count": 9,
   "id": "bc2c5a98",
   "metadata": {},
   "outputs": [
    {
     "name": "stdout",
     "output_type": "stream",
     "text": [
      "Number of CPU cores used: 4\n"
     ]
    }
   ],
   "source": [
    "# Step 9 Display Numbers of CPU Cores Used\n",
    "n_cores_used = joblib.effective_n_jobs(rfr_Spotify.n_jobs)\n",
    "\n",
    "print(f\"Number of CPU cores used: {n_cores_used}\")"
   ]
  }
 ],
 "metadata": {
  "kernelspec": {
   "display_name": "Python 3 (ipykernel)",
   "language": "python",
   "name": "python3"
  },
  "language_info": {
   "codemirror_mode": {
    "name": "ipython",
    "version": 3
   },
   "file_extension": ".py",
   "mimetype": "text/x-python",
   "name": "python",
   "nbconvert_exporter": "python",
   "pygments_lexer": "ipython3",
   "version": "3.11.4"
  }
 },
 "nbformat": 4,
 "nbformat_minor": 5
}
